{
 "cells": [
  {
   "cell_type": "code",
   "execution_count": 12,
   "metadata": {},
   "outputs": [],
   "source": [
    "import pandas as pd\n",
    "import json\n",
    "import datetime"
   ]
  },
  {
   "cell_type": "code",
   "execution_count": 13,
   "metadata": {},
   "outputs": [],
   "source": [
    "df = pd.read_csv('~/fraudTrain.csv')"
   ]
  },
  {
   "cell_type": "code",
   "execution_count": 14,
   "metadata": {},
   "outputs": [],
   "source": [
    "df = df.drop('Unnamed: 0', axis=1)\n",
    "df = df.drop('trans_num', axis=1)\n",
    "df = df.drop('cc_num', axis=1)\n",
    "df = df.drop('unix_time', axis=1)"
   ]
  },
  {
   "cell_type": "code",
   "execution_count": 15,
   "metadata": {},
   "outputs": [],
   "source": [
    "mapping_dict = {1: 'Yes', 0: 'No'}\n",
    "df['is_fraud'] = df['is_fraud'].map(mapping_dict)"
   ]
  },
  {
   "cell_type": "code",
   "execution_count": 16,
   "metadata": {},
   "outputs": [],
   "source": [
    "mapping_dict = {'M': 'Male', 'F': 'Female'}\n",
    "df['gender'] = df['gender'].map(mapping_dict)"
   ]
  },
  {
   "cell_type": "markdown",
   "metadata": {},
   "source": [
    "## List Template Serialization"
   ]
  },
  {
   "cell_type": "code",
   "execution_count": 16,
   "metadata": {},
   "outputs": [],
   "source": [
    "def list_template_serialization(row):\n",
    "    return {col: row[col] for col in row.index}\n",
    "\n",
    "serialized_data = df.apply(list_template_serialization, axis=1)\n",
    "\n",
    "with open('./serialized_dataset/list_template_serialized_data.jsonl', 'w') as file:\n",
    "    for row in serialized_data:\n",
    "        json.dump(row, file)\n",
    "        file.write('\\n')\n"
   ]
  },
  {
   "cell_type": "markdown",
   "metadata": {},
   "source": [
    "## Text Template Serialization"
   ]
  },
  {
   "cell_type": "code",
   "execution_count": null,
   "metadata": {},
   "outputs": [],
   "source": [
    "def text_template_serialization(row):\n",
    "    return '. '.join([f'The {col} is {row[col]}' for col in row.index]) + '.'\n",
    "\n",
    "\n",
    "serialized_data = df.apply(text_template_serialization, axis=1)\n",
    "\n",
    "\n",
    "with open('./serialized_dataset/text_template_serialized_data.jsonl', 'w') as file:\n",
    "    for row in serialized_data:\n",
    "        file.write(json.dumps({\"data\": row}) + '\\n')"
   ]
  },
  {
   "cell_type": "markdown",
   "metadata": {},
   "source": [
    "## Manual Template Serialization"
   ]
  },
  {
   "cell_type": "code",
   "execution_count": 17,
   "metadata": {},
   "outputs": [],
   "source": [
    "df['trans_date_trans_time'] = pd.to_datetime(df['trans_date_trans_time'], format='%Y-%m-%d %H:%M:%S')\n",
    "df['dob'] = pd.to_datetime(df['dob'], format='%Y-%m-%d')"
   ]
  },
  {
   "cell_type": "code",
   "execution_count": 18,
   "metadata": {},
   "outputs": [],
   "source": [
    "current_date = datetime.datetime.now().date()\n",
    "df['age'] = current_date.year - df['dob'].dt.year"
   ]
  },
  {
   "cell_type": "code",
   "execution_count": 19,
   "metadata": {},
   "outputs": [],
   "source": [
    "#Sampling dataset to reduce rows\n",
    "\n",
    "fraud_yes = df[df['is_fraud'] == 'Yes'].sample(n=500, random_state=42)\n",
    "fraud_no = df[df['is_fraud'] == 'No'].sample(n=500, random_state=42)\n",
    "merged_df = pd.concat([fraud_yes, fraud_no])\n",
    "merged_df = merged_df.reset_index(drop=True)"
   ]
  },
  {
   "cell_type": "code",
   "execution_count": 20,
   "metadata": {},
   "outputs": [],
   "source": [
    "df = merged_df.copy()"
   ]
  },
  {
   "cell_type": "code",
   "execution_count": 21,
   "metadata": {},
   "outputs": [],
   "source": [
    "def map_df_to_template_and_store(df, file_path):\n",
    "    with open(file_path, 'w') as file:\n",
    "        for _, row in df.iterrows():\n",
    "            record = (\n",
    "                f\"The date and time of transaction is {row['trans_date_trans_time']} \"\n",
    "                f\"The merchant is {row['merchant']} \"\n",
    "                f\"and transaction category is {row['category']}. \"\n",
    "                f\"The transaction amount is {row['amt']}. \"\n",
    "                f\"First name of customer is {row['first']} \"\n",
    "                f\"and last name is {row['last']}, \"\n",
    "                f\"gender of the customer is {row['gender']} \"\n",
    "                f\"and lives in {row['street']}, {row['city']}, {row['state']} having zipcode {row['zip']}. \"\n",
    "                f\"Latitude and Longitude of the location is {row['lat']} and {row['long']}. \"\n",
    "                f\"The city population is {row['city_pop']}. \"\n",
    "                f\"The customer is {row['job']} \"\n",
    "                f\"and has date of birth {row['dob']} and age is {row['age']}. \"\n",
    "                f\"Latitude and Longitude of merchant location is {row['merch_lat']} and {row['merch_long']}.\"\n",
    "            )\n",
    "            output = (f\"Is there a fraud? {row['is_fraud']}\")\n",
    "            json_record = json.dumps({\"record\": record, \"output\": output})\n",
    "            file.write(json_record + '\\n')"
   ]
  },
  {
   "cell_type": "code",
   "execution_count": 22,
   "metadata": {},
   "outputs": [],
   "source": [
    "map_df_to_template_and_store(df, './serialized_dataset/manual_template_serialization.jsonl')"
   ]
  },
  {
   "cell_type": "code",
   "execution_count": null,
   "metadata": {},
   "outputs": [],
   "source": []
  }
 ],
 "metadata": {
  "kernelspec": {
   "display_name": "default:Python",
   "language": "python",
   "name": "conda-env-default-py"
  },
  "language_info": {
   "codemirror_mode": {
    "name": "ipython",
    "version": 3
   },
   "file_extension": ".py",
   "mimetype": "text/x-python",
   "name": "python",
   "nbconvert_exporter": "python",
   "pygments_lexer": "ipython3",
   "version": "3.9.13"
  }
 },
 "nbformat": 4,
 "nbformat_minor": 4
}
